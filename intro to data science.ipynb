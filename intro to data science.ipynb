{
 "cells": [
  {
   "cell_type": "markdown",
   "metadata": {},
   "source": [
    "## 1.CSV file integration in the notebook"
   ]
  },
  {
   "cell_type": "code",
   "execution_count": 15,
   "metadata": {},
   "outputs": [
    {
     "name": "stdout",
     "output_type": "stream",
     "text": [
      "OrderedDict([('account_key', '448'), ('status', 'canceled'), ('join_date', '2014-11-10'), ('cancel_date', '2015-01-14'), ('days_to_cancel', '65'), ('is_udacity', 'True'), ('is_canceled', 'True')])\n"
     ]
    }
   ],
   "source": [
    "import unicodecsv\n",
    "enrollments = []\n",
    "f = open('enrollments.csv', 'rb')\n",
    "reader = unicodecsv.DictReader(f)\n",
    "#here, reader is not a list of dictionaries, but only an iterator\n",
    "#This iterator allows you to access the elements only once.\n",
    "\n",
    "#for loop is called to convert iterator into list of dictionaries\n",
    "for row in reader:\n",
    "    enrollments.append(row)\n",
    "\n",
    "#file handle closing is required for every file\n",
    "f.close()\n",
    "print(enrollments[0])\n",
    "\n"
   ]
  },
  {
   "cell_type": "code",
   "execution_count": 18,
   "metadata": {},
   "outputs": [
    {
     "data": {
      "text/plain": [
       "OrderedDict([('account_key', '448'),\n",
       "             ('status', 'canceled'),\n",
       "             ('join_date', '2014-11-10'),\n",
       "             ('cancel_date', '2015-01-14'),\n",
       "             ('days_to_cancel', '65'),\n",
       "             ('is_udacity', 'True'),\n",
       "             ('is_canceled', 'True')])"
      ]
     },
     "execution_count": 18,
     "metadata": {},
     "output_type": "execute_result"
    }
   ],
   "source": [
    "# optimised code of the above operations\n",
    "import unicodecsv\n",
    "with open('enrollments.csv','rb') as f:\n",
    "    reader = unicodecsv.DictReader(f)\n",
    "    enrollments = list(reader)\n",
    "enrollments[0]"
   ]
  },
  {
   "cell_type": "code",
   "execution_count": 40,
   "metadata": {},
   "outputs": [
    {
     "name": "stdout",
     "output_type": "stream",
     "text": [
      "OrderedDict([('acct', '0'), ('utc_date', '2015-01-09'), ('num_courses_visited', '1.0'), ('total_minutes_visited', '11.6793745'), ('lessons_completed', '0.0'), ('projects_completed', '0.0')])\n",
      "OrderedDict([('creation_date', '2015-01-14'), ('completion_date', '2015-01-16'), ('assigned_rating', 'UNGRADED'), ('account_key', '256'), ('lesson_key', '3176718735'), ('processing_state', 'EVALUATED')])\n"
     ]
    }
   ],
   "source": [
    "import unicodecsv\n",
    "\n",
    "with open('daily_engagement.csv', 'rb') as f:\n",
    "    reader = unicodecsv.DictReader(f)\n",
    "    daily_engagement = list(reader)\n",
    "    \n",
    "with open('project_submissions.csv', 'rb') as f:\n",
    "    reader = unicodecsv.DictReader(f)\n",
    "    project_submissions = list(reader)\n",
    "\n",
    "print(daily_engagement[0])\n",
    "print(project_submissions[0])"
   ]
  },
  {
   "cell_type": "markdown",
   "metadata": {},
   "source": [
    "## 2.Investigating the data"
   ]
  },
  {
   "cell_type": "code",
   "execution_count": 41,
   "metadata": {},
   "outputs": [
    {
     "name": "stdout",
     "output_type": "stream",
     "text": [
      "total_enrollments :  1640\n",
      "total_daily_engagements :  136240\n",
      "total_submissions :  3642\n",
      "OrderedDict([('acct', '0'), ('utc_date', '2015-01-09'), ('num_courses_visited', '1.0'), ('total_minutes_visited', '11.6793745'), ('lessons_completed', '0.0'), ('projects_completed', '0.0')])\n"
     ]
    }
   ],
   "source": [
    "import unicodecsv\n",
    "\n",
    "def reading_file(filename):\n",
    "    with open (filename,'rb') as f:\n",
    "        reader = unicodecsv.DictReader(f)\n",
    "        return list(reader)\n",
    "    \n",
    "enrollments = reading_file('enrollments.csv')\n",
    "daily_engagements = reading_file('daily_engagement.csv')\n",
    "project_submissions = reading_file('project_submissions.csv')\n",
    "\n",
    "#printing total students \n",
    "\n",
    "print(\"total_enrollments : \",len(enrollments))\n",
    "print(\"total_daily_engagements : \",len(daily_engagements))\n",
    "print(\"total_submissions : \", len(project_submissions))\n",
    "print(daily_engagements[0])"
   ]
  },
  {
   "cell_type": "code",
   "execution_count": 42,
   "metadata": {},
   "outputs": [
    {
     "data": {
      "text/plain": [
       "OrderedDict([('utc_date', '2015-01-09'),\n",
       "             ('num_courses_visited', '1.0'),\n",
       "             ('total_minutes_visited', '11.6793745'),\n",
       "             ('lessons_completed', '0.0'),\n",
       "             ('projects_completed', '0.0'),\n",
       "             ('account_key', '0')])"
      ]
     },
     "execution_count": 42,
     "metadata": {},
     "output_type": "execute_result"
    }
   ],
   "source": [
    "#renaming 'acct' in daily_engagements to 'account_key' \n",
    "\n",
    "for engagement in daily_engagements:\n",
    "    engagement['account_key'] = engagement['acct']\n",
    "    del(engagement['acct'])\n",
    "\n",
    "daily_engagements[0]"
   ]
  },
  {
   "cell_type": "code",
   "execution_count": 43,
   "metadata": {
    "collapsed": true
   },
   "outputs": [],
   "source": [
    "#writing a common function to count unique sets\n",
    "\n",
    "def get_unique_students(data):\n",
    "    unique_students = set()\n",
    "    for data_point in data:\n",
    "        unique_students.add(data_point['account_key'])\n",
    "    return unique_students"
   ]
  },
  {
   "cell_type": "code",
   "execution_count": 44,
   "metadata": {},
   "outputs": [],
   "source": [
    "unique_enrollments = get_unique_students(enrollments)\n",
    "unique_daily_engagements = get_unique_students(daily_engagements)\n",
    "unique_project_submissions = get_unique_students(project_submissions)"
   ]
  },
  {
   "cell_type": "code",
   "execution_count": 45,
   "metadata": {},
   "outputs": [
    {
     "name": "stdout",
     "output_type": "stream",
     "text": [
      "unique enrollments :  1302\n",
      "unique daily engagement :  1237\n",
      "unique project submissions :  743\n"
     ]
    }
   ],
   "source": [
    "#printing number of unique students only\n",
    "\n",
    "print('unique enrollments : ',len(unique_enrollments))\n",
    "print('unique daily engagement : ', len(unique_daily_engagements))\n",
    "print('unique project submissions : ', len(unique_submissions))"
   ]
  },
  {
   "cell_type": "markdown",
   "metadata": {},
   "source": [
    "### Missing engagment records"
   ]
  },
  {
   "cell_type": "code",
   "execution_count": 46,
   "metadata": {},
   "outputs": [
    {
     "name": "stdout",
     "output_type": "stream",
     "text": [
      "OrderedDict([('account_key', '1219'), ('status', 'canceled'), ('join_date', '2014-11-12'), ('cancel_date', '2014-11-12'), ('days_to_cancel', '0'), ('is_udacity', 'False'), ('is_canceled', 'True')])\n",
      "OrderedDict([('account_key', '871'), ('status', 'canceled'), ('join_date', '2014-11-13'), ('cancel_date', '2014-11-13'), ('days_to_cancel', '0'), ('is_udacity', 'False'), ('is_canceled', 'True')])\n",
      "OrderedDict([('account_key', '1218'), ('status', 'canceled'), ('join_date', '2014-11-15'), ('cancel_date', '2014-11-15'), ('days_to_cancel', '0'), ('is_udacity', 'False'), ('is_canceled', 'True')])\n",
      "OrderedDict([('account_key', '654'), ('status', 'canceled'), ('join_date', '2014-12-04'), ('cancel_date', '2014-12-04'), ('days_to_cancel', '0'), ('is_udacity', 'False'), ('is_canceled', 'True')])\n",
      "OrderedDict([('account_key', '654'), ('status', 'canceled'), ('join_date', '2014-12-04'), ('cancel_date', '2014-12-04'), ('days_to_cancel', '0'), ('is_udacity', 'False'), ('is_canceled', 'True')])\n",
      "OrderedDict([('account_key', '654'), ('status', 'canceled'), ('join_date', '2014-12-03'), ('cancel_date', '2014-12-03'), ('days_to_cancel', '0'), ('is_udacity', 'False'), ('is_canceled', 'True')])\n",
      "OrderedDict([('account_key', '964'), ('status', 'canceled'), ('join_date', '2014-12-04'), ('cancel_date', '2014-12-04'), ('days_to_cancel', '0'), ('is_udacity', 'False'), ('is_canceled', 'True')])\n",
      "OrderedDict([('account_key', '817'), ('status', 'canceled'), ('join_date', '2014-12-09'), ('cancel_date', '2014-12-09'), ('days_to_cancel', '0'), ('is_udacity', 'False'), ('is_canceled', 'True')])\n",
      "OrderedDict([('account_key', '1171'), ('status', 'canceled'), ('join_date', '2015-01-07'), ('cancel_date', '2015-01-07'), ('days_to_cancel', '0'), ('is_udacity', 'False'), ('is_canceled', 'True')])\n",
      "OrderedDict([('account_key', '884'), ('status', 'canceled'), ('join_date', '2015-01-08'), ('cancel_date', '2015-01-08'), ('days_to_cancel', '0'), ('is_udacity', 'False'), ('is_canceled', 'True')])\n",
      "OrderedDict([('account_key', '875'), ('status', 'canceled'), ('join_date', '2014-11-17'), ('cancel_date', '2014-11-17'), ('days_to_cancel', '0'), ('is_udacity', 'False'), ('is_canceled', 'True')])\n",
      "OrderedDict([('account_key', '1120'), ('status', 'canceled'), ('join_date', '2014-12-04'), ('cancel_date', '2014-12-04'), ('days_to_cancel', '0'), ('is_udacity', 'False'), ('is_canceled', 'True')])\n",
      "OrderedDict([('account_key', '728'), ('status', 'canceled'), ('join_date', '2014-12-05'), ('cancel_date', '2014-12-05'), ('days_to_cancel', '0'), ('is_udacity', 'False'), ('is_canceled', 'True')])\n",
      "OrderedDict([('account_key', '1191'), ('status', 'canceled'), ('join_date', '2015-01-11'), ('cancel_date', '2015-01-11'), ('days_to_cancel', '0'), ('is_udacity', 'False'), ('is_canceled', 'True')])\n",
      "OrderedDict([('account_key', '1304'), ('status', 'canceled'), ('join_date', '2015-01-10'), ('cancel_date', '2015-03-10'), ('days_to_cancel', '59'), ('is_udacity', 'True'), ('is_canceled', 'True')])\n",
      "OrderedDict([('account_key', '1304'), ('status', 'canceled'), ('join_date', '2015-03-10'), ('cancel_date', '2015-06-17'), ('days_to_cancel', '99'), ('is_udacity', 'True'), ('is_canceled', 'True')])\n",
      "OrderedDict([('account_key', '1010'), ('status', 'canceled'), ('join_date', '2015-01-11'), ('cancel_date', '2015-01-11'), ('days_to_cancel', '0'), ('is_udacity', 'False'), ('is_canceled', 'True')])\n",
      "OrderedDict([('account_key', '841'), ('status', 'canceled'), ('join_date', '2014-11-12'), ('cancel_date', '2014-11-12'), ('days_to_cancel', '0'), ('is_udacity', 'False'), ('is_canceled', 'True')])\n",
      "OrderedDict([('account_key', '707'), ('status', 'canceled'), ('join_date', '2014-12-03'), ('cancel_date', '2014-12-03'), ('days_to_cancel', '0'), ('is_udacity', 'False'), ('is_canceled', 'True')])\n",
      "OrderedDict([('account_key', '717'), ('status', 'canceled'), ('join_date', '2014-12-04'), ('cancel_date', '2014-12-04'), ('days_to_cancel', '0'), ('is_udacity', 'False'), ('is_canceled', 'True')])\n",
      "OrderedDict([('account_key', '727'), ('status', 'canceled'), ('join_date', '2014-12-07'), ('cancel_date', '2014-12-07'), ('days_to_cancel', '0'), ('is_udacity', 'False'), ('is_canceled', 'True')])\n",
      "OrderedDict([('account_key', '1273'), ('status', 'canceled'), ('join_date', '2015-01-12'), ('cancel_date', '2015-01-12'), ('days_to_cancel', '0'), ('is_udacity', 'False'), ('is_canceled', 'True')])\n",
      "OrderedDict([('account_key', '1238'), ('status', 'canceled'), ('join_date', '2014-11-10'), ('cancel_date', '2014-11-10'), ('days_to_cancel', '0'), ('is_udacity', 'False'), ('is_canceled', 'True')])\n",
      "OrderedDict([('account_key', '1044'), ('status', 'canceled'), ('join_date', '2015-02-08'), ('cancel_date', '2015-02-08'), ('days_to_cancel', '0'), ('is_udacity', 'False'), ('is_canceled', 'True')])\n",
      "OrderedDict([('account_key', '749'), ('status', 'canceled'), ('join_date', '2015-03-05'), ('cancel_date', '2015-03-05'), ('days_to_cancel', '0'), ('is_udacity', 'False'), ('is_canceled', 'True')])\n",
      "OrderedDict([('account_key', '1129'), ('status', 'canceled'), ('join_date', '2015-03-07'), ('cancel_date', '2015-03-07'), ('days_to_cancel', '0'), ('is_udacity', 'False'), ('is_canceled', 'True')])\n",
      "OrderedDict([('account_key', '1129'), ('status', 'canceled'), ('join_date', '2015-02-11'), ('cancel_date', '2015-02-11'), ('days_to_cancel', '0'), ('is_udacity', 'False'), ('is_canceled', 'True')])\n",
      "OrderedDict([('account_key', '926'), ('status', 'canceled'), ('join_date', '2015-04-06'), ('cancel_date', '2015-04-06'), ('days_to_cancel', '0'), ('is_udacity', 'False'), ('is_canceled', 'True')])\n",
      "OrderedDict([('account_key', '711'), ('status', 'canceled'), ('join_date', '2015-05-08'), ('cancel_date', '2015-05-08'), ('days_to_cancel', '0'), ('is_udacity', 'False'), ('is_canceled', 'True')])\n",
      "OrderedDict([('account_key', '803'), ('status', 'canceled'), ('join_date', '2015-01-08'), ('cancel_date', '2015-01-08'), ('days_to_cancel', '0'), ('is_udacity', 'False'), ('is_canceled', 'True')])\n",
      "OrderedDict([('account_key', '799'), ('status', 'canceled'), ('join_date', '2015-02-06'), ('cancel_date', '2015-02-06'), ('days_to_cancel', '0'), ('is_udacity', 'False'), ('is_canceled', 'True')])\n",
      "OrderedDict([('account_key', '789'), ('status', 'canceled'), ('join_date', '2015-02-06'), ('cancel_date', '2015-02-06'), ('days_to_cancel', '0'), ('is_udacity', 'False'), ('is_canceled', 'True')])\n",
      "OrderedDict([('account_key', '819'), ('status', 'canceled'), ('join_date', '2015-03-04'), ('cancel_date', '2015-03-04'), ('days_to_cancel', '0'), ('is_udacity', 'False'), ('is_canceled', 'True')])\n",
      "OrderedDict([('account_key', '819'), ('status', 'canceled'), ('join_date', '2015-03-04'), ('cancel_date', '2015-03-04'), ('days_to_cancel', '0'), ('is_udacity', 'False'), ('is_canceled', 'True')])\n",
      "OrderedDict([('account_key', '902'), ('status', 'canceled'), ('join_date', '2015-05-29'), ('cancel_date', '2015-05-29'), ('days_to_cancel', '0'), ('is_udacity', 'False'), ('is_canceled', 'True')])\n",
      "OrderedDict([('account_key', '996'), ('status', 'canceled'), ('join_date', '2015-05-29'), ('cancel_date', '2015-05-29'), ('days_to_cancel', '0'), ('is_udacity', 'False'), ('is_canceled', 'True')])\n",
      "OrderedDict([('account_key', '1213'), ('status', 'canceled'), ('join_date', '2015-01-12'), ('cancel_date', '2015-01-12'), ('days_to_cancel', '0'), ('is_udacity', 'False'), ('is_canceled', 'True')])\n",
      "OrderedDict([('account_key', '733'), ('status', 'canceled'), ('join_date', '2015-01-12'), ('cancel_date', '2015-01-12'), ('days_to_cancel', '0'), ('is_udacity', 'False'), ('is_canceled', 'True')])\n",
      "OrderedDict([('account_key', '1237'), ('status', 'canceled'), ('join_date', '2015-05-28'), ('cancel_date', '2015-05-28'), ('days_to_cancel', '0'), ('is_udacity', 'False'), ('is_canceled', 'True')])\n",
      "OrderedDict([('account_key', '1069'), ('status', 'canceled'), ('join_date', '2015-06-01'), ('cancel_date', '2015-06-01'), ('days_to_cancel', '0'), ('is_udacity', 'True'), ('is_canceled', 'True')])\n",
      "OrderedDict([('account_key', '1086'), ('status', 'canceled'), ('join_date', '2015-06-09'), ('cancel_date', '2015-06-09'), ('days_to_cancel', '0'), ('is_udacity', 'False'), ('is_canceled', 'True')])\n",
      "OrderedDict([('account_key', '1190'), ('status', 'canceled'), ('join_date', '2015-03-06'), ('cancel_date', '2015-03-06'), ('days_to_cancel', '0'), ('is_udacity', 'False'), ('is_canceled', 'True')])\n",
      "OrderedDict([('account_key', '914'), ('status', 'canceled'), ('join_date', '2015-04-02'), ('cancel_date', '2015-04-02'), ('days_to_cancel', '0'), ('is_udacity', 'False'), ('is_canceled', 'True')])\n",
      "OrderedDict([('account_key', '914'), ('status', 'canceled'), ('join_date', '2015-07-17'), ('cancel_date', '2015-07-17'), ('days_to_cancel', '0'), ('is_udacity', 'False'), ('is_canceled', 'True')])\n",
      "OrderedDict([('account_key', '968'), ('status', 'canceled'), ('join_date', '2015-07-17'), ('cancel_date', '2015-07-17'), ('days_to_cancel', '0'), ('is_udacity', 'False'), ('is_canceled', 'True')])\n",
      "OrderedDict([('account_key', '1155'), ('status', 'canceled'), ('join_date', '2015-07-17'), ('cancel_date', '2015-07-17'), ('days_to_cancel', '0'), ('is_udacity', 'False'), ('is_canceled', 'True')])\n",
      "OrderedDict([('account_key', '766'), ('status', 'canceled'), ('join_date', '2015-05-10'), ('cancel_date', '2015-05-10'), ('days_to_cancel', '0'), ('is_udacity', 'False'), ('is_canceled', 'True')])\n",
      "OrderedDict([('account_key', '739'), ('status', 'canceled'), ('join_date', '2015-04-05'), ('cancel_date', '2015-04-05'), ('days_to_cancel', '0'), ('is_udacity', 'False'), ('is_canceled', 'True')])\n",
      "OrderedDict([('account_key', '1222'), ('status', 'canceled'), ('join_date', '2015-04-07'), ('cancel_date', '2015-04-07'), ('days_to_cancel', '0'), ('is_udacity', 'False'), ('is_canceled', 'True')])\n",
      "OrderedDict([('account_key', '1125'), ('status', 'canceled'), ('join_date', '2015-05-31'), ('cancel_date', '2015-05-31'), ('days_to_cancel', '0'), ('is_udacity', 'False'), ('is_canceled', 'True')])\n",
      "OrderedDict([('account_key', '1025'), ('status', 'canceled'), ('join_date', '2015-06-07'), ('cancel_date', '2015-06-07'), ('days_to_cancel', '0'), ('is_udacity', 'False'), ('is_canceled', 'True')])\n",
      "OrderedDict([('account_key', '750'), ('status', 'canceled'), ('join_date', '2015-06-06'), ('cancel_date', '2015-06-06'), ('days_to_cancel', '0'), ('is_udacity', 'False'), ('is_canceled', 'True')])\n",
      "OrderedDict([('account_key', '889'), ('status', 'canceled'), ('join_date', '2015-08-11'), ('cancel_date', '2015-08-11'), ('days_to_cancel', '0'), ('is_udacity', 'False'), ('is_canceled', 'True')])\n",
      "OrderedDict([('account_key', '737'), ('status', 'canceled'), ('join_date', '2014-11-10'), ('cancel_date', '2014-11-10'), ('days_to_cancel', '0'), ('is_udacity', 'False'), ('is_canceled', 'True')])\n",
      "OrderedDict([('account_key', '878'), ('status', 'canceled'), ('join_date', '2014-11-10'), ('cancel_date', '2014-11-10'), ('days_to_cancel', '0'), ('is_udacity', 'False'), ('is_canceled', 'True')])\n",
      "OrderedDict([('account_key', '981'), ('status', 'canceled'), ('join_date', '2015-02-07'), ('cancel_date', '2015-02-07'), ('days_to_cancel', '0'), ('is_udacity', 'False'), ('is_canceled', 'True')])\n",
      "OrderedDict([('account_key', '1101'), ('status', 'current'), ('join_date', '2015-02-25'), ('cancel_date', ''), ('days_to_cancel', ''), ('is_udacity', 'True'), ('is_canceled', 'False')])\n",
      "OrderedDict([('account_key', '1148'), ('status', 'canceled'), ('join_date', '2015-03-09'), ('cancel_date', '2015-03-09'), ('days_to_cancel', '0'), ('is_udacity', 'False'), ('is_canceled', 'True')])\n",
      "OrderedDict([('account_key', '1186'), ('status', 'canceled'), ('join_date', '2015-03-11'), ('cancel_date', '2015-03-11'), ('days_to_cancel', '0'), ('is_udacity', 'False'), ('is_canceled', 'True')])\n",
      "OrderedDict([('account_key', '725'), ('status', 'canceled'), ('join_date', '2014-12-06'), ('cancel_date', '2014-12-06'), ('days_to_cancel', '0'), ('is_udacity', 'False'), ('is_canceled', 'True')])\n",
      "OrderedDict([('account_key', '1145'), ('status', 'canceled'), ('join_date', '2015-04-04'), ('cancel_date', '2015-04-04'), ('days_to_cancel', '0'), ('is_udacity', 'False'), ('is_canceled', 'True')])\n",
      "OrderedDict([('account_key', '802'), ('status', 'canceled'), ('join_date', '2015-01-08'), ('cancel_date', '2015-01-08'), ('days_to_cancel', '0'), ('is_udacity', 'False'), ('is_canceled', 'True')])\n",
      "OrderedDict([('account_key', '664'), ('status', 'canceled'), ('join_date', '2015-01-08'), ('cancel_date', '2015-01-08'), ('days_to_cancel', '0'), ('is_udacity', 'False'), ('is_canceled', 'True')])\n",
      "OrderedDict([('account_key', '997'), ('status', 'canceled'), ('join_date', '2015-01-12'), ('cancel_date', '2015-01-12'), ('days_to_cancel', '0'), ('is_udacity', 'False'), ('is_canceled', 'True')])\n",
      "OrderedDict([('account_key', '870'), ('status', 'canceled'), ('join_date', '2015-05-12'), ('cancel_date', '2015-05-12'), ('days_to_cancel', '0'), ('is_udacity', 'False'), ('is_canceled', 'True')])\n",
      "OrderedDict([('account_key', '1284'), ('status', 'canceled'), ('join_date', '2015-01-13'), ('cancel_date', '2015-01-13'), ('days_to_cancel', '0'), ('is_udacity', 'False'), ('is_canceled', 'True')])\n",
      "OrderedDict([('account_key', '1079'), ('status', 'canceled'), ('join_date', '2015-02-09'), ('cancel_date', '2015-02-09'), ('days_to_cancel', '0'), ('is_udacity', 'False'), ('is_canceled', 'True')])\n",
      "OrderedDict([('account_key', '1063'), ('status', 'canceled'), ('join_date', '2015-07-14'), ('cancel_date', '2015-07-14'), ('days_to_cancel', '0'), ('is_udacity', 'False'), ('is_canceled', 'True')])\n",
      "OrderedDict([('account_key', '1270'), ('status', 'canceled'), ('join_date', '2015-07-20'), ('cancel_date', '2015-07-20'), ('days_to_cancel', '0'), ('is_udacity', 'False'), ('is_canceled', 'True')])\n",
      "OrderedDict([('account_key', '1291'), ('status', 'canceled'), ('join_date', '2015-06-03'), ('cancel_date', '2015-06-03'), ('days_to_cancel', '0'), ('is_udacity', 'False'), ('is_canceled', 'True')])\n",
      "OrderedDict([('account_key', '1241'), ('status', 'canceled'), ('join_date', '2015-06-09'), ('cancel_date', '2015-06-09'), ('days_to_cancel', '0'), ('is_udacity', 'False'), ('is_canceled', 'True')])\n"
     ]
    }
   ],
   "source": [
    "for enrollment in enrollments :\n",
    "    student = enrollment['account_key']\n",
    "    if student not in unique_daily_engagements:\n",
    "        print(enrollment)"
   ]
  },
  {
   "cell_type": "code",
   "execution_count": null,
   "metadata": {
    "collapsed": true
   },
   "outputs": [],
   "source": []
  }
 ],
 "metadata": {
  "kernelspec": {
   "display_name": "Python 3",
   "language": "python",
   "name": "python3"
  },
  "language_info": {
   "codemirror_mode": {
    "name": "ipython",
    "version": 3
   },
   "file_extension": ".py",
   "mimetype": "text/x-python",
   "name": "python",
   "nbconvert_exporter": "python",
   "pygments_lexer": "ipython3",
   "version": "3.6.1"
  }
 },
 "nbformat": 4,
 "nbformat_minor": 2
}
